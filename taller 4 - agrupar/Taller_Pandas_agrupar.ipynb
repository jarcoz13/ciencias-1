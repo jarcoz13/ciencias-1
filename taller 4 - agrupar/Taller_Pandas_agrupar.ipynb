{
  "cells": [
    {
      "cell_type": "markdown",
      "metadata": {
        "id": "DD7nCAao9Qf1"
      },
      "source": [
        "#Taller Group by, count, value_counts"
      ]
    },
    {
      "cell_type": "markdown",
      "metadata": {
        "id": "t-Ou5RVg9YNF"
      },
      "source": [
        "1. Cargar el CSV phone_data y convertir la columna date de string a tiempo"
      ]
    },
    {
      "cell_type": "code",
      "execution_count": 40,
      "metadata": {
        "colab": {
          "base_uri": "https://localhost:8080/",
          "height": 455
        },
        "id": "WbofEhAy9LFB",
        "outputId": "4833530a-a5db-4555-b4cf-2a9b59468d09"
      },
      "outputs": [
        {
          "data": {
            "text/html": [
              "<div>\n",
              "<style scoped>\n",
              "    .dataframe tbody tr th:only-of-type {\n",
              "        vertical-align: middle;\n",
              "    }\n",
              "\n",
              "    .dataframe tbody tr th {\n",
              "        vertical-align: top;\n",
              "    }\n",
              "\n",
              "    .dataframe thead th {\n",
              "        text-align: right;\n",
              "    }\n",
              "</style>\n",
              "<table border=\"1\" class=\"dataframe\">\n",
              "  <thead>\n",
              "    <tr style=\"text-align: right;\">\n",
              "      <th></th>\n",
              "      <th>date</th>\n",
              "      <th>duration</th>\n",
              "      <th>item</th>\n",
              "      <th>month</th>\n",
              "      <th>network</th>\n",
              "      <th>network_type</th>\n",
              "    </tr>\n",
              "    <tr>\n",
              "      <th>index</th>\n",
              "      <th></th>\n",
              "      <th></th>\n",
              "      <th></th>\n",
              "      <th></th>\n",
              "      <th></th>\n",
              "      <th></th>\n",
              "    </tr>\n",
              "  </thead>\n",
              "  <tbody>\n",
              "    <tr>\n",
              "      <th>0</th>\n",
              "      <td>2014-10-15 06:58:00</td>\n",
              "      <td>34.429</td>\n",
              "      <td>data</td>\n",
              "      <td>2014-11</td>\n",
              "      <td>data</td>\n",
              "      <td>data</td>\n",
              "    </tr>\n",
              "    <tr>\n",
              "      <th>1</th>\n",
              "      <td>2014-10-15 06:58:00</td>\n",
              "      <td>13.000</td>\n",
              "      <td>call</td>\n",
              "      <td>2014-11</td>\n",
              "      <td>Vodafone</td>\n",
              "      <td>mobile</td>\n",
              "    </tr>\n",
              "    <tr>\n",
              "      <th>2</th>\n",
              "      <td>2014-10-15 14:46:00</td>\n",
              "      <td>23.000</td>\n",
              "      <td>call</td>\n",
              "      <td>2014-11</td>\n",
              "      <td>Meteor</td>\n",
              "      <td>mobile</td>\n",
              "    </tr>\n",
              "    <tr>\n",
              "      <th>3</th>\n",
              "      <td>2014-10-15 14:48:00</td>\n",
              "      <td>4.000</td>\n",
              "      <td>call</td>\n",
              "      <td>2014-11</td>\n",
              "      <td>Tesco</td>\n",
              "      <td>mobile</td>\n",
              "    </tr>\n",
              "    <tr>\n",
              "      <th>4</th>\n",
              "      <td>2014-10-15 17:27:00</td>\n",
              "      <td>4.000</td>\n",
              "      <td>call</td>\n",
              "      <td>2014-11</td>\n",
              "      <td>Tesco</td>\n",
              "      <td>mobile</td>\n",
              "    </tr>\n",
              "    <tr>\n",
              "      <th>...</th>\n",
              "      <td>...</td>\n",
              "      <td>...</td>\n",
              "      <td>...</td>\n",
              "      <td>...</td>\n",
              "      <td>...</td>\n",
              "      <td>...</td>\n",
              "    </tr>\n",
              "    <tr>\n",
              "      <th>825</th>\n",
              "      <td>2015-03-13 00:38:00</td>\n",
              "      <td>1.000</td>\n",
              "      <td>sms</td>\n",
              "      <td>2015-03</td>\n",
              "      <td>world</td>\n",
              "      <td>world</td>\n",
              "    </tr>\n",
              "    <tr>\n",
              "      <th>826</th>\n",
              "      <td>2015-03-13 00:39:00</td>\n",
              "      <td>1.000</td>\n",
              "      <td>sms</td>\n",
              "      <td>2015-03</td>\n",
              "      <td>Vodafone</td>\n",
              "      <td>mobile</td>\n",
              "    </tr>\n",
              "    <tr>\n",
              "      <th>827</th>\n",
              "      <td>2015-03-13 06:58:00</td>\n",
              "      <td>34.429</td>\n",
              "      <td>data</td>\n",
              "      <td>2015-03</td>\n",
              "      <td>data</td>\n",
              "      <td>data</td>\n",
              "    </tr>\n",
              "    <tr>\n",
              "      <th>828</th>\n",
              "      <td>2015-03-14 00:13:00</td>\n",
              "      <td>1.000</td>\n",
              "      <td>sms</td>\n",
              "      <td>2015-03</td>\n",
              "      <td>world</td>\n",
              "      <td>world</td>\n",
              "    </tr>\n",
              "    <tr>\n",
              "      <th>829</th>\n",
              "      <td>2015-03-14 00:16:00</td>\n",
              "      <td>1.000</td>\n",
              "      <td>sms</td>\n",
              "      <td>2015-03</td>\n",
              "      <td>world</td>\n",
              "      <td>world</td>\n",
              "    </tr>\n",
              "  </tbody>\n",
              "</table>\n",
              "<p>830 rows × 6 columns</p>\n",
              "</div>"
            ],
            "text/plain": [
              "                     date  duration  item    month   network network_type\n",
              "index                                                                    \n",
              "0     2014-10-15 06:58:00    34.429  data  2014-11      data         data\n",
              "1     2014-10-15 06:58:00    13.000  call  2014-11  Vodafone       mobile\n",
              "2     2014-10-15 14:46:00    23.000  call  2014-11    Meteor       mobile\n",
              "3     2014-10-15 14:48:00     4.000  call  2014-11     Tesco       mobile\n",
              "4     2014-10-15 17:27:00     4.000  call  2014-11     Tesco       mobile\n",
              "...                   ...       ...   ...      ...       ...          ...\n",
              "825   2015-03-13 00:38:00     1.000   sms  2015-03     world        world\n",
              "826   2015-03-13 00:39:00     1.000   sms  2015-03  Vodafone       mobile\n",
              "827   2015-03-13 06:58:00    34.429  data  2015-03      data         data\n",
              "828   2015-03-14 00:13:00     1.000   sms  2015-03     world        world\n",
              "829   2015-03-14 00:16:00     1.000   sms  2015-03     world        world\n",
              "\n",
              "[830 rows x 6 columns]"
            ]
          },
          "execution_count": 40,
          "metadata": {},
          "output_type": "execute_result"
        }
      ],
      "source": [
        "import pandas as pd\n",
        "import dateutil\n",
        "import matplotlib\n",
        " \n",
        "data = pd.read_csv('phone_data.csv', index_col='index')\n",
        "data\n",
        "data['date'] = data['date'].apply(dateutil.parser.parse)\n",
        "data"
      ]
    },
    {
      "cell_type": "markdown",
      "metadata": {
        "id": "WRfBhY6g-2T1"
      },
      "source": [
        "2. ¿Cuál fue el ítem (llamada/datos) de mayor duración? "
      ]
    },
    {
      "cell_type": "code",
      "execution_count": 41,
      "metadata": {
        "colab": {
          "base_uri": "https://localhost:8080/"
        },
        "id": "SYhYjb5z_A6e",
        "outputId": "31e49f37-0655-46c0-c079-ca3c19145ab3"
      },
      "outputs": [
        {
          "data": {
            "text/plain": [
              "10528.0"
            ]
          },
          "execution_count": 41,
          "metadata": {},
          "output_type": "execute_result"
        }
      ],
      "source": [
        "data['duration'].max()"
      ]
    },
    {
      "cell_type": "code",
      "execution_count": 42,
      "metadata": {
        "colab": {
          "base_uri": "https://localhost:8080/",
          "height": 112
        },
        "id": "XExG6MJWPTzB",
        "outputId": "05e81e79-6ebe-4842-83f4-f021b18ccd23"
      },
      "outputs": [
        {
          "data": {
            "text/html": [
              "<div>\n",
              "<style scoped>\n",
              "    .dataframe tbody tr th:only-of-type {\n",
              "        vertical-align: middle;\n",
              "    }\n",
              "\n",
              "    .dataframe tbody tr th {\n",
              "        vertical-align: top;\n",
              "    }\n",
              "\n",
              "    .dataframe thead th {\n",
              "        text-align: right;\n",
              "    }\n",
              "</style>\n",
              "<table border=\"1\" class=\"dataframe\">\n",
              "  <thead>\n",
              "    <tr style=\"text-align: right;\">\n",
              "      <th></th>\n",
              "      <th>date</th>\n",
              "      <th>duration</th>\n",
              "      <th>item</th>\n",
              "      <th>month</th>\n",
              "      <th>network</th>\n",
              "      <th>network_type</th>\n",
              "    </tr>\n",
              "    <tr>\n",
              "      <th>index</th>\n",
              "      <th></th>\n",
              "      <th></th>\n",
              "      <th></th>\n",
              "      <th></th>\n",
              "      <th></th>\n",
              "      <th></th>\n",
              "    </tr>\n",
              "  </thead>\n",
              "  <tbody>\n",
              "    <tr>\n",
              "      <th>816</th>\n",
              "      <td>2015-04-03 12:29:00</td>\n",
              "      <td>10528.0</td>\n",
              "      <td>call</td>\n",
              "      <td>2015-03</td>\n",
              "      <td>landline</td>\n",
              "      <td>landline</td>\n",
              "    </tr>\n",
              "  </tbody>\n",
              "</table>\n",
              "</div>"
            ],
            "text/plain": [
              "                     date  duration  item    month   network network_type\n",
              "index                                                                    \n",
              "816   2015-04-03 12:29:00   10528.0  call  2015-03  landline     landline"
            ]
          },
          "execution_count": 42,
          "metadata": {},
          "output_type": "execute_result"
        }
      ],
      "source": [
        "data[data['duration']==data['duration'].max()]"
      ]
    },
    {
      "cell_type": "code",
      "execution_count": 43,
      "metadata": {
        "colab": {
          "base_uri": "https://localhost:8080/",
          "height": 306
        },
        "id": "-A9C_FiuOjyM",
        "outputId": "5f91cccc-9aec-4f40-916f-fad723eba497"
      },
      "outputs": [
        {
          "data": {
            "text/plain": [
              "<AxesSubplot:xlabel='index'>"
            ]
          },
          "execution_count": 43,
          "metadata": {},
          "output_type": "execute_result"
        },
        {
          "data": {
            "image/png": "[encoded data removed]",
            "text/plain": [
              "<Figure size 432x288 with 1 Axes>"
            ]
          },
          "metadata": {
            "needs_background": "light"
          },
          "output_type": "display_data"
        }
      ],
      "source": [
        "data.loc[800:,['duration']].plot(kind='bar')"
      ]
    },
    {
      "cell_type": "markdown",
      "metadata": {
        "id": "aWhXCZzL_Q6t"
      },
      "source": [
        "*   ¿Cuál fue la llamada de mayor duración?"
      ]
    },
    {
      "cell_type": "code",
      "execution_count": 44,
      "metadata": {},
      "outputs": [
        {
          "data": {
            "text/html": [
              "<div>\n",
              "<style scoped>\n",
              "    .dataframe tbody tr th:only-of-type {\n",
              "        vertical-align: middle;\n",
              "    }\n",
              "\n",
              "    .dataframe tbody tr th {\n",
              "        vertical-align: top;\n",
              "    }\n",
              "\n",
              "    .dataframe thead th {\n",
              "        text-align: right;\n",
              "    }\n",
              "</style>\n",
              "<table border=\"1\" class=\"dataframe\">\n",
              "  <thead>\n",
              "    <tr style=\"text-align: right;\">\n",
              "      <th></th>\n",
              "      <th>date</th>\n",
              "      <th>duration</th>\n",
              "      <th>item</th>\n",
              "      <th>month</th>\n",
              "      <th>network</th>\n",
              "      <th>network_type</th>\n",
              "    </tr>\n",
              "    <tr>\n",
              "      <th>index</th>\n",
              "      <th></th>\n",
              "      <th></th>\n",
              "      <th></th>\n",
              "      <th></th>\n",
              "      <th></th>\n",
              "      <th></th>\n",
              "    </tr>\n",
              "  </thead>\n",
              "  <tbody>\n",
              "    <tr>\n",
              "      <th>816</th>\n",
              "      <td>2015-04-03 12:29:00</td>\n",
              "      <td>10528.0</td>\n",
              "      <td>call</td>\n",
              "      <td>2015-03</td>\n",
              "      <td>landline</td>\n",
              "      <td>landline</td>\n",
              "    </tr>\n",
              "  </tbody>\n",
              "</table>\n",
              "</div>"
            ],
            "text/plain": [
              "                     date  duration  item    month   network network_type\n",
              "index                                                                    \n",
              "816   2015-04-03 12:29:00   10528.0  call  2015-03  landline     landline"
            ]
          },
          "execution_count": 44,
          "metadata": {},
          "output_type": "execute_result"
        }
      ],
      "source": [
        "df = data[data['item']=='call']\n",
        "df['duration'].max()\n",
        "df[df['duration']==df['duration'].max()]\n",
        "data[(data['duration']==data['duration'].max())&(data['item']=='call')]\n"
      ]
    },
    {
      "cell_type": "markdown",
      "metadata": {},
      "source": [
        "*   ¿Cuál fue el evento de datos de mayor duración?"
      ]
    },
    {
      "cell_type": "code",
      "execution_count": 83,
      "metadata": {},
      "outputs": [
        {
          "data": {
            "text/html": [
              "<div>\n",
              "<style scoped>\n",
              "    .dataframe tbody tr th:only-of-type {\n",
              "        vertical-align: middle;\n",
              "    }\n",
              "\n",
              "    .dataframe tbody tr th {\n",
              "        vertical-align: top;\n",
              "    }\n",
              "\n",
              "    .dataframe thead th {\n",
              "        text-align: right;\n",
              "    }\n",
              "</style>\n",
              "<table border=\"1\" class=\"dataframe\">\n",
              "  <thead>\n",
              "    <tr style=\"text-align: right;\">\n",
              "      <th></th>\n",
              "      <th>date</th>\n",
              "      <th>duration</th>\n",
              "      <th>item</th>\n",
              "      <th>month</th>\n",
              "      <th>network</th>\n",
              "      <th>network_type</th>\n",
              "    </tr>\n",
              "    <tr>\n",
              "      <th>index</th>\n",
              "      <th></th>\n",
              "      <th></th>\n",
              "      <th></th>\n",
              "      <th></th>\n",
              "      <th></th>\n",
              "      <th></th>\n",
              "    </tr>\n",
              "  </thead>\n",
              "  <tbody>\n",
              "    <tr>\n",
              "      <th>0</th>\n",
              "      <td>2014-10-15 06:58:00</td>\n",
              "      <td>34.429</td>\n",
              "      <td>data</td>\n",
              "      <td>2014-11</td>\n",
              "      <td>data</td>\n",
              "      <td>data</td>\n",
              "    </tr>\n",
              "    <tr>\n",
              "      <th>6</th>\n",
              "      <td>2014-10-16 06:58:00</td>\n",
              "      <td>34.429</td>\n",
              "      <td>data</td>\n",
              "      <td>2014-11</td>\n",
              "      <td>data</td>\n",
              "      <td>data</td>\n",
              "    </tr>\n",
              "    <tr>\n",
              "      <th>13</th>\n",
              "      <td>2014-10-17 06:58:00</td>\n",
              "      <td>34.429</td>\n",
              "      <td>data</td>\n",
              "      <td>2014-11</td>\n",
              "      <td>data</td>\n",
              "      <td>data</td>\n",
              "    </tr>\n",
              "    <tr>\n",
              "      <th>26</th>\n",
              "      <td>2014-10-18 06:58:00</td>\n",
              "      <td>34.429</td>\n",
              "      <td>data</td>\n",
              "      <td>2014-11</td>\n",
              "      <td>data</td>\n",
              "      <td>data</td>\n",
              "    </tr>\n",
              "    <tr>\n",
              "      <th>39</th>\n",
              "      <td>2014-10-19 06:58:00</td>\n",
              "      <td>34.429</td>\n",
              "      <td>data</td>\n",
              "      <td>2014-11</td>\n",
              "      <td>data</td>\n",
              "      <td>data</td>\n",
              "    </tr>\n",
              "    <tr>\n",
              "      <th>...</th>\n",
              "      <td>...</td>\n",
              "      <td>...</td>\n",
              "      <td>...</td>\n",
              "      <td>...</td>\n",
              "      <td>...</td>\n",
              "      <td>...</td>\n",
              "    </tr>\n",
              "    <tr>\n",
              "      <th>821</th>\n",
              "      <td>2015-09-03 06:58:00</td>\n",
              "      <td>34.429</td>\n",
              "      <td>data</td>\n",
              "      <td>2015-03</td>\n",
              "      <td>data</td>\n",
              "      <td>data</td>\n",
              "    </tr>\n",
              "    <tr>\n",
              "      <th>822</th>\n",
              "      <td>2015-10-03 06:58:00</td>\n",
              "      <td>34.429</td>\n",
              "      <td>data</td>\n",
              "      <td>2015-03</td>\n",
              "      <td>data</td>\n",
              "      <td>data</td>\n",
              "    </tr>\n",
              "    <tr>\n",
              "      <th>823</th>\n",
              "      <td>2015-11-03 06:58:00</td>\n",
              "      <td>34.429</td>\n",
              "      <td>data</td>\n",
              "      <td>2015-03</td>\n",
              "      <td>data</td>\n",
              "      <td>data</td>\n",
              "    </tr>\n",
              "    <tr>\n",
              "      <th>824</th>\n",
              "      <td>2015-12-03 06:58:00</td>\n",
              "      <td>34.429</td>\n",
              "      <td>data</td>\n",
              "      <td>2015-03</td>\n",
              "      <td>data</td>\n",
              "      <td>data</td>\n",
              "    </tr>\n",
              "    <tr>\n",
              "      <th>827</th>\n",
              "      <td>2015-03-13 06:58:00</td>\n",
              "      <td>34.429</td>\n",
              "      <td>data</td>\n",
              "      <td>2015-03</td>\n",
              "      <td>data</td>\n",
              "      <td>data</td>\n",
              "    </tr>\n",
              "  </tbody>\n",
              "</table>\n",
              "<p>150 rows × 6 columns</p>\n",
              "</div>"
            ],
            "text/plain": [
              "                     date  duration  item    month network network_type\n",
              "index                                                                  \n",
              "0     2014-10-15 06:58:00    34.429  data  2014-11    data         data\n",
              "6     2014-10-16 06:58:00    34.429  data  2014-11    data         data\n",
              "13    2014-10-17 06:58:00    34.429  data  2014-11    data         data\n",
              "26    2014-10-18 06:58:00    34.429  data  2014-11    data         data\n",
              "39    2014-10-19 06:58:00    34.429  data  2014-11    data         data\n",
              "...                   ...       ...   ...      ...     ...          ...\n",
              "821   2015-09-03 06:58:00    34.429  data  2015-03    data         data\n",
              "822   2015-10-03 06:58:00    34.429  data  2015-03    data         data\n",
              "823   2015-11-03 06:58:00    34.429  data  2015-03    data         data\n",
              "824   2015-12-03 06:58:00    34.429  data  2015-03    data         data\n",
              "827   2015-03-13 06:58:00    34.429  data  2015-03    data         data\n",
              "\n",
              "[150 rows x 6 columns]"
            ]
          },
          "execution_count": 83,
          "metadata": {},
          "output_type": "execute_result"
        }
      ],
      "source": [
        "df = data[data['item']=='data']\n",
        "df['duration'].max()\n",
        "df[df['duration']==df['duration'].max()]\n",
        "\n",
        "#df.loc[0:827,['duration']].plot(kind='bar')\n",
        "#data[(data['duration']==data['duration'].max())&(data['item']=='call')]"
      ]
    },
    {
      "cell_type": "markdown",
      "metadata": {
        "id": "_ihlSQ8J_UsH"
      },
      "source": [
        "3. ¿Cuánto fue el total de segundos de todas las llamadas?"
      ]
    },
    {
      "cell_type": "code",
      "execution_count": 55,
      "metadata": {
        "colab": {
          "base_uri": "https://localhost:8080/"
        },
        "id": "VRPJGw4mAjuU",
        "outputId": "1d979ea6-4623-4747-94fe-1f2c5b6a6592"
      },
      "outputs": [
        {
          "data": {
            "text/plain": [
              "92321.0"
            ]
          },
          "execution_count": 55,
          "metadata": {},
          "output_type": "execute_result"
        }
      ],
      "source": [
        "data['duration'][data['item'] == 'call'].sum()"
      ]
    },
    {
      "cell_type": "markdown",
      "metadata": {
        "id": "4yXw7YAOBFWD"
      },
      "source": [
        "\n",
        "\n",
        "*   ¿Cuánto fue el total de segundos entre sms y eventos de datos?\n",
        "\n",
        "\n"
      ]
    },
    {
      "cell_type": "code",
      "execution_count": 60,
      "metadata": {},
      "outputs": [
        {
          "data": {
            "text/plain": [
              "5456.35"
            ]
          },
          "execution_count": 60,
          "metadata": {},
          "output_type": "execute_result"
        }
      ],
      "source": [
        "data['duration'][(data['item'] == 'sms')|(data['item'] == 'data')].sum()"
      ]
    },
    {
      "cell_type": "markdown",
      "metadata": {
        "id": "AV8pi7MMBYFh"
      },
      "source": [
        "4. ¿Cuantas entradas hay por cada uno de los meses"
      ]
    },
    {
      "cell_type": "code",
      "execution_count": 47,
      "metadata": {
        "colab": {
          "base_uri": "https://localhost:8080/"
        },
        "id": "m3h9wOBYCiqI",
        "outputId": "783844e6-f2ea-49db-eef0-eea8194c8c9e"
      },
      "outputs": [
        {
          "data": {
            "text/plain": [
              "2014-11    230\n",
              "2015-01    205\n",
              "2014-12    157\n",
              "2015-02    137\n",
              "2015-03    101\n",
              "Name: month, dtype: int64"
            ]
          },
          "execution_count": 47,
          "metadata": {},
          "output_type": "execute_result"
        }
      ],
      "source": [
        "data['month']\n",
        "data['month'].value_counts()"
      ]
    },
    {
      "cell_type": "markdown",
      "metadata": {
        "id": "gJ6RqGV-C6Wm"
      },
      "source": [
        "*   ¿Cuantas entradas de datos hay por cada uno de las redes?\n",
        "\n"
      ]
    },
    {
      "cell_type": "code",
      "execution_count": 70,
      "metadata": {},
      "outputs": [
        {
          "data": {
            "text/plain": [
              "data    150\n",
              "Name: network, dtype: int64"
            ]
          },
          "execution_count": 70,
          "metadata": {},
          "output_type": "execute_result"
        }
      ],
      "source": [
        "data['network'].value_counts()\n",
        "data['network'][data['item']=='data'].value_counts()"
      ]
    },
    {
      "cell_type": "markdown",
      "metadata": {},
      "source": [
        "*   ¿Cuantas entradas de llamada hay por cada una de las redes?\n"
      ]
    },
    {
      "cell_type": "code",
      "execution_count": 67,
      "metadata": {},
      "outputs": [
        {
          "data": {
            "text/plain": [
              "Three        128\n",
              "Tesco         71\n",
              "Vodafone      66\n",
              "Meteor        54\n",
              "landline      42\n",
              "voicemail     27\n",
              "Name: network, dtype: int64"
            ]
          },
          "execution_count": 67,
          "metadata": {},
          "output_type": "execute_result"
        }
      ],
      "source": [
        "data['network'][data['item']=='call'].value_counts()"
      ]
    },
    {
      "cell_type": "markdown",
      "metadata": {
        "id": "8dUW2IDuDFcR"
      },
      "source": [
        "5. Obtener la suma de la duración por mes"
      ]
    },
    {
      "cell_type": "code",
      "execution_count": 48,
      "metadata": {
        "colab": {
          "base_uri": "https://localhost:8080/"
        },
        "id": "5X0AYVZbEwi0",
        "outputId": "9e5ad981-09bb-4beb-a3c8-9ca68e88e397"
      },
      "outputs": [
        {
          "data": {
            "text/plain": [
              "month\n",
              "2014-11    26639.441\n",
              "2014-12    14641.870\n",
              "2015-01    18223.299\n",
              "2015-02    15522.299\n",
              "2015-03    22750.441\n",
              "Name: duration, dtype: float64"
            ]
          },
          "execution_count": 48,
          "metadata": {},
          "output_type": "execute_result"
        }
      ],
      "source": [
        "data['duration'].sum()\n",
        "data.groupby('month')['duration'].sum()"
      ]
    },
    {
      "cell_type": "markdown",
      "metadata": {
        "id": "pO7sikFjE1ks"
      },
      "source": [
        "* Obtener el promedio de llamadas por cada una de las redes\n",
        "* Obtener el promedio de eventos de datos por cada una de las redes\n"
      ]
    },
    {
      "cell_type": "markdown",
      "metadata": {
        "id": "XpUR2W0XFeSu"
      },
      "source": [
        "6. Obtener el número de entradas por mes"
      ]
    },
    {
      "cell_type": "code",
      "execution_count": 72,
      "metadata": {
        "colab": {
          "base_uri": "https://localhost:8080/",
          "height": 237
        },
        "id": "4QkCvoB_GD-J",
        "outputId": "e9289ee7-1c22-433b-813c-47a6e06328ab"
      },
      "outputs": [
        {
          "data": {
            "text/plain": [
              "830"
            ]
          },
          "execution_count": 72,
          "metadata": {},
          "output_type": "execute_result"
        }
      ],
      "source": [
        "  data['date'].count()\n",
        "  data.groupby('month').count()"
      ]
    },
    {
      "cell_type": "code",
      "execution_count": 71,
      "metadata": {
        "colab": {
          "base_uri": "https://localhost:8080/"
        },
        "id": "uqA9AZq9xyXl",
        "outputId": "26d181dd-49a6-44b8-ba5e-47a1b9efa254"
      },
      "outputs": [
        {
          "data": {
            "text/plain": [
              "2014-11    230\n",
              "2015-01    205\n",
              "2014-12    157\n",
              "2015-02    137\n",
              "2015-03    101\n",
              "Name: month, dtype: int64"
            ]
          },
          "execution_count": 71,
          "metadata": {},
          "output_type": "execute_result"
        }
      ],
      "source": [
        "data.groupby('month')['date'].count()\n",
        "data['month'].value_counts()"
      ]
    },
    {
      "cell_type": "markdown",
      "metadata": {
        "id": "7z2xdy4lG7tT"
      },
      "source": [
        "* Obtener el número de entradas tipo llamada por cada una de las redes\n",
        "* Obtener el número de entradas tipo sms por cada una de las redes\n"
      ]
    },
    {
      "cell_type": "markdown",
      "metadata": {
        "id": "fGafHKnBHDYI"
      },
      "source": [
        "7. Cuántos eventos de llamada, datos y sms hubo por mes"
      ]
    },
    {
      "cell_type": "code",
      "execution_count": 51,
      "metadata": {
        "colab": {
          "base_uri": "https://localhost:8080/"
        },
        "id": "jEoV_7MLHdey",
        "outputId": "a1820b5a-2cbd-4b76-b31a-84c498497ade"
      },
      "outputs": [
        {
          "data": {
            "text/plain": [
              "month    item\n",
              "2014-11  call    107\n",
              "         data     29\n",
              "         sms      94\n",
              "2014-12  call     79\n",
              "         data     30\n",
              "         sms      48\n",
              "2015-01  call     88\n",
              "         data     31\n",
              "         sms      86\n",
              "2015-02  call     67\n",
              "         data     31\n",
              "         sms      39\n",
              "2015-03  call     47\n",
              "         data     29\n",
              "         sms      25\n",
              "Name: date, dtype: int64"
            ]
          },
          "execution_count": 51,
          "metadata": {},
          "output_type": "execute_result"
        }
      ],
      "source": [
        "data.groupby(['month', 'item'])['date'].count()"
      ]
    },
    {
      "cell_type": "markdown",
      "metadata": {
        "id": "hjGzuz3WHf2-"
      },
      "source": [
        "* Por cada uno de los meses, ¿cuántas veces se usaron cada una de las redes (para cualquier evento)?\n",
        "* Por cada uno de los meses, ¿cuántas veces se usaron cada una de las redes discriminando el tipo de evento?\n"
      ]
    }
  ],
  "metadata": {
    "colab": {
      "collapsed_sections": [],
      "name": "Taller - Pandas: agrupar.ipynb",
      "provenance": []
    },
    "kernelspec": {
      "display_name": "Python 3",
      "name": "python3"
    },
    "language_info": {
      "codemirror_mode": {
        "name": "ipython",
        "version": 3
      },
      "file_extension": ".py",
      "mimetype": "text/x-python",
      "name": "python",
      "nbconvert_exporter": "python",
      "pygments_lexer": "ipython3",
      "version": "3.9.2"
    }
  },
  "nbformat": 4,
  "nbformat_minor": 0
}
