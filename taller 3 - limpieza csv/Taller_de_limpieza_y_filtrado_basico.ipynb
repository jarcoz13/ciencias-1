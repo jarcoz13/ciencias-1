{
  "nbformat": 4,
  "nbformat_minor": 0,
  "metadata": {
    "colab": {
      "name": "Taller de limpieza y filtrado basico.ipynb",
      "provenance": [],
      "collapsed_sections": []
    },
    "kernelspec": {
      "name": "python3",
      "display_name": "Python 3"
    },
    "language_info": {
      "name": "python"
    }
  },
  "cells": [
    {
      "cell_type": "markdown",
      "metadata": {
        "id": "ZtIjb9XaLup1"
      },
      "source": [
        "**Taller de limpieza y filtrado**"
      ]
    },
    {
      "cell_type": "markdown",
      "metadata": {
        "id": "nciyQBJQL7_O"
      },
      "source": [
        "*1.) Importar un CSV desde Datos Abiertos*"
      ]
    },
    {
      "cell_type": "code",
      "metadata": {
        "id": "WqRuEltDQVjw"
      },
      "source": [
        "pip install sodapy"
      ],
      "execution_count": null,
      "outputs": []
    },
    {
      "cell_type": "code",
      "metadata": {
        "id": "_gdSgcVLLFvL"
      },
      "source": [
        "import numpy as np\n",
        "import pandas as pd\n",
        "from sodapy import Socrata"
      ],
      "execution_count": null,
      "outputs": []
    },
    {
      "cell_type": "code",
      "metadata": {
        "colab": {
          "base_uri": "https://localhost:8080/",
          "height": 441
        },
        "id": "MXtPcW_AQtMg",
        "outputId": "76d4782f-faae-4523-e96e-c25e54d1db21"
      },
      "source": [
        "# Unauthenticated client only works with public data sets. Note 'None'\n",
        "# in place of application token, and no username or password:\n",
        "client = Socrata(\"www.datos.gov.co\", None)\n",
        "\n",
        "# Example authenticated client (needed for non-public datasets):\n",
        "# client = Socrata(www.datos.gov.co,\n",
        "#                  MyAppToken,\n",
        "#                  userame=\"user@example.com\",\n",
        "#                  password=\"AFakePassword\")\n",
        "\n",
        "# First 2000 results, returned as JSON from API / converted to Python list of\n",
        "# dictionaries by sodapy.\n",
        "results = client.get(\"sdvb-4x4j\", limit=4030)\n",
        "\n",
        "# Convert to pandas DataFrame\n",
        "asignacion_vacuna = pd.DataFrame.from_records(results)\n",
        "convert_dict = {'cantidad': int}\n",
        "asignacion_vacuna=asignacion_vacuna.astype(convert_dict)\n",
        "asignacion_vacuna\n"
      ],
      "execution_count": 71,
      "outputs": [
        {
          "output_type": "stream",
          "name": "stderr",
          "text": [
            "WARNING:root:Requests made without an app_token will be subject to strict throttling limits.\n"
          ]
        },
        {
          "output_type": "execute_result",
          "data": {
            "text/html": [
              "<div>\n",
              "<style scoped>\n",
              "    .dataframe tbody tr th:only-of-type {\n",
              "        vertical-align: middle;\n",
              "    }\n",
              "\n",
              "    .dataframe tbody tr th {\n",
              "        vertical-align: top;\n",
              "    }\n",
              "\n",
              "    .dataframe thead th {\n",
              "        text-align: right;\n",
              "    }\n",
              "</style>\n",
              "<table border=\"1\" class=\"dataframe\">\n",
              "  <thead>\n",
              "    <tr style=\"text-align: right;\">\n",
              "      <th></th>\n",
              "      <th>num_resolucion</th>\n",
              "      <th>fecha_resolucion</th>\n",
              "      <th>a_o</th>\n",
              "      <th>cod_territorio</th>\n",
              "      <th>nom_territorio</th>\n",
              "      <th>laboratorio_vacuna</th>\n",
              "      <th>cantidad</th>\n",
              "      <th>uso_vacuna</th>\n",
              "      <th>fecha_corte</th>\n",
              "    </tr>\n",
              "  </thead>\n",
              "  <tbody>\n",
              "    <tr>\n",
              "      <th>0</th>\n",
              "      <td>168</td>\n",
              "      <td>2021-02-16T00:00:00.000</td>\n",
              "      <td>2021</td>\n",
              "      <td>5</td>\n",
              "      <td>ANTIOQUIA</td>\n",
              "      <td>PFIZER</td>\n",
              "      <td>6570</td>\n",
              "      <td>Talento humano en salud primera etapa</td>\n",
              "      <td>2021-11-11T00:00:00.000</td>\n",
              "    </tr>\n",
              "    <tr>\n",
              "      <th>1</th>\n",
              "      <td>168</td>\n",
              "      <td>2021-02-16T00:00:00.000</td>\n",
              "      <td>2021</td>\n",
              "      <td>81</td>\n",
              "      <td>ARAUCA</td>\n",
              "      <td>PFIZER</td>\n",
              "      <td>120</td>\n",
              "      <td>Talento humano en salud primera etapa</td>\n",
              "      <td>2021-11-11T00:00:00.000</td>\n",
              "    </tr>\n",
              "    <tr>\n",
              "      <th>2</th>\n",
              "      <td>168</td>\n",
              "      <td>2021-02-16T00:00:00.000</td>\n",
              "      <td>2021</td>\n",
              "      <td>8</td>\n",
              "      <td>ATLANTICO</td>\n",
              "      <td>PFIZER</td>\n",
              "      <td>564</td>\n",
              "      <td>Talento humano en salud primera etapa</td>\n",
              "      <td>2021-11-11T00:00:00.000</td>\n",
              "    </tr>\n",
              "    <tr>\n",
              "      <th>3</th>\n",
              "      <td>168</td>\n",
              "      <td>2021-02-16T00:00:00.000</td>\n",
              "      <td>2021</td>\n",
              "      <td>8001</td>\n",
              "      <td>BARRANQUILLA</td>\n",
              "      <td>PFIZER</td>\n",
              "      <td>2556</td>\n",
              "      <td>Talento humano en salud primera etapa</td>\n",
              "      <td>2021-11-11T00:00:00.000</td>\n",
              "    </tr>\n",
              "    <tr>\n",
              "      <th>4</th>\n",
              "      <td>168</td>\n",
              "      <td>2021-02-16T00:00:00.000</td>\n",
              "      <td>2021</td>\n",
              "      <td>11</td>\n",
              "      <td>BOGOTA D.C.</td>\n",
              "      <td>PFIZER</td>\n",
              "      <td>12582</td>\n",
              "      <td>Talento humano en salud primera etapa</td>\n",
              "      <td>2021-11-11T00:00:00.000</td>\n",
              "    </tr>\n",
              "    <tr>\n",
              "      <th>...</th>\n",
              "      <td>...</td>\n",
              "      <td>...</td>\n",
              "      <td>...</td>\n",
              "      <td>...</td>\n",
              "      <td>...</td>\n",
              "      <td>...</td>\n",
              "      <td>...</td>\n",
              "      <td>...</td>\n",
              "      <td>...</td>\n",
              "    </tr>\n",
              "    <tr>\n",
              "      <th>4025</th>\n",
              "      <td>1815</td>\n",
              "      <td>2021-11-11T00:00:00.000</td>\n",
              "      <td>2021</td>\n",
              "      <td>73</td>\n",
              "      <td>TOLIMA</td>\n",
              "      <td>SINOVAC</td>\n",
              "      <td>25200</td>\n",
              "      <td>3 a 11 años / segundas / refuerzos</td>\n",
              "      <td>2021-11-11T00:00:00.000</td>\n",
              "    </tr>\n",
              "    <tr>\n",
              "      <th>4026</th>\n",
              "      <td>1815</td>\n",
              "      <td>2021-11-11T00:00:00.000</td>\n",
              "      <td>2021</td>\n",
              "      <td>76</td>\n",
              "      <td>VALLE_DEL_CAUCA</td>\n",
              "      <td>SINOVAC</td>\n",
              "      <td>20400</td>\n",
              "      <td>3 a 11 años / segundas / refuerzos</td>\n",
              "      <td>2021-11-11T00:00:00.000</td>\n",
              "    </tr>\n",
              "    <tr>\n",
              "      <th>4027</th>\n",
              "      <td>1815</td>\n",
              "      <td>2021-11-11T00:00:00.000</td>\n",
              "      <td>2021</td>\n",
              "      <td>76109</td>\n",
              "      <td>BUENAVENTURA</td>\n",
              "      <td>SINOVAC</td>\n",
              "      <td>6000</td>\n",
              "      <td>3 a 11 años / segundas / refuerzos</td>\n",
              "      <td>2021-11-11T00:00:00.000</td>\n",
              "    </tr>\n",
              "    <tr>\n",
              "      <th>4028</th>\n",
              "      <td>1815</td>\n",
              "      <td>2021-11-11T00:00:00.000</td>\n",
              "      <td>2021</td>\n",
              "      <td>97</td>\n",
              "      <td>VAUPES</td>\n",
              "      <td>SINOVAC</td>\n",
              "      <td>200</td>\n",
              "      <td>3 a 11 años / segundas / refuerzos</td>\n",
              "      <td>2021-11-11T00:00:00.000</td>\n",
              "    </tr>\n",
              "    <tr>\n",
              "      <th>4029</th>\n",
              "      <td>1815</td>\n",
              "      <td>2021-11-11T00:00:00.000</td>\n",
              "      <td>2021</td>\n",
              "      <td>99</td>\n",
              "      <td>VICHADA</td>\n",
              "      <td>SINOVAC</td>\n",
              "      <td>2400</td>\n",
              "      <td>3 a 11 años / segundas / refuerzos</td>\n",
              "      <td>2021-11-11T00:00:00.000</td>\n",
              "    </tr>\n",
              "  </tbody>\n",
              "</table>\n",
              "<p>4030 rows × 9 columns</p>\n",
              "</div>"
            ],
            "text/plain": [
              "     num_resolucion  ...              fecha_corte\n",
              "0               168  ...  2021-11-11T00:00:00.000\n",
              "1               168  ...  2021-11-11T00:00:00.000\n",
              "2               168  ...  2021-11-11T00:00:00.000\n",
              "3               168  ...  2021-11-11T00:00:00.000\n",
              "4               168  ...  2021-11-11T00:00:00.000\n",
              "...             ...  ...                      ...\n",
              "4025           1815  ...  2021-11-11T00:00:00.000\n",
              "4026           1815  ...  2021-11-11T00:00:00.000\n",
              "4027           1815  ...  2021-11-11T00:00:00.000\n",
              "4028           1815  ...  2021-11-11T00:00:00.000\n",
              "4029           1815  ...  2021-11-11T00:00:00.000\n",
              "\n",
              "[4030 rows x 9 columns]"
            ]
          },
          "metadata": {},
          "execution_count": 71
        }
      ]
    },
    {
      "cell_type": "markdown",
      "metadata": {
        "id": "enXA7dRaqqBu"
      },
      "source": [
        "*2.) Limpiar datos*"
      ]
    },
    {
      "cell_type": "markdown",
      "metadata": {
        "id": "UH1IC0SMTjvS"
      },
      "source": [
        "**Efecto de la funcion isnull()**"
      ]
    },
    {
      "cell_type": "code",
      "metadata": {
        "colab": {
          "base_uri": "https://localhost:8080/",
          "height": 423
        },
        "id": "sxl2IfQ6TKYy",
        "outputId": "c9f5d1e5-ae27-495c-d096-92d98c3b3ba4"
      },
      "source": [
        "asignacion_vacuna.isnull()"
      ],
      "execution_count": null,
      "outputs": [
        {
          "output_type": "execute_result",
          "data": {
            "text/html": [
              "<div>\n",
              "<style scoped>\n",
              "    .dataframe tbody tr th:only-of-type {\n",
              "        vertical-align: middle;\n",
              "    }\n",
              "\n",
              "    .dataframe tbody tr th {\n",
              "        vertical-align: top;\n",
              "    }\n",
              "\n",
              "    .dataframe thead th {\n",
              "        text-align: right;\n",
              "    }\n",
              "</style>\n",
              "<table border=\"1\" class=\"dataframe\">\n",
              "  <thead>\n",
              "    <tr style=\"text-align: right;\">\n",
              "      <th></th>\n",
              "      <th>num_resolucion</th>\n",
              "      <th>fecha_resolucion</th>\n",
              "      <th>a_o</th>\n",
              "      <th>cod_territorio</th>\n",
              "      <th>nom_territorio</th>\n",
              "      <th>laboratorio_vacuna</th>\n",
              "      <th>cantidad</th>\n",
              "      <th>uso_vacuna</th>\n",
              "      <th>fecha_corte</th>\n",
              "    </tr>\n",
              "  </thead>\n",
              "  <tbody>\n",
              "    <tr>\n",
              "      <th>0</th>\n",
              "      <td>False</td>\n",
              "      <td>False</td>\n",
              "      <td>False</td>\n",
              "      <td>False</td>\n",
              "      <td>False</td>\n",
              "      <td>False</td>\n",
              "      <td>False</td>\n",
              "      <td>False</td>\n",
              "      <td>False</td>\n",
              "    </tr>\n",
              "    <tr>\n",
              "      <th>1</th>\n",
              "      <td>False</td>\n",
              "      <td>False</td>\n",
              "      <td>False</td>\n",
              "      <td>False</td>\n",
              "      <td>False</td>\n",
              "      <td>False</td>\n",
              "      <td>False</td>\n",
              "      <td>False</td>\n",
              "      <td>False</td>\n",
              "    </tr>\n",
              "    <tr>\n",
              "      <th>2</th>\n",
              "      <td>False</td>\n",
              "      <td>False</td>\n",
              "      <td>False</td>\n",
              "      <td>False</td>\n",
              "      <td>False</td>\n",
              "      <td>False</td>\n",
              "      <td>False</td>\n",
              "      <td>False</td>\n",
              "      <td>False</td>\n",
              "    </tr>\n",
              "    <tr>\n",
              "      <th>3</th>\n",
              "      <td>False</td>\n",
              "      <td>False</td>\n",
              "      <td>False</td>\n",
              "      <td>False</td>\n",
              "      <td>False</td>\n",
              "      <td>False</td>\n",
              "      <td>False</td>\n",
              "      <td>False</td>\n",
              "      <td>False</td>\n",
              "    </tr>\n",
              "    <tr>\n",
              "      <th>4</th>\n",
              "      <td>False</td>\n",
              "      <td>False</td>\n",
              "      <td>False</td>\n",
              "      <td>False</td>\n",
              "      <td>False</td>\n",
              "      <td>False</td>\n",
              "      <td>False</td>\n",
              "      <td>False</td>\n",
              "      <td>False</td>\n",
              "    </tr>\n",
              "    <tr>\n",
              "      <th>...</th>\n",
              "      <td>...</td>\n",
              "      <td>...</td>\n",
              "      <td>...</td>\n",
              "      <td>...</td>\n",
              "      <td>...</td>\n",
              "      <td>...</td>\n",
              "      <td>...</td>\n",
              "      <td>...</td>\n",
              "      <td>...</td>\n",
              "    </tr>\n",
              "    <tr>\n",
              "      <th>4025</th>\n",
              "      <td>False</td>\n",
              "      <td>False</td>\n",
              "      <td>False</td>\n",
              "      <td>False</td>\n",
              "      <td>False</td>\n",
              "      <td>False</td>\n",
              "      <td>False</td>\n",
              "      <td>False</td>\n",
              "      <td>False</td>\n",
              "    </tr>\n",
              "    <tr>\n",
              "      <th>4026</th>\n",
              "      <td>False</td>\n",
              "      <td>False</td>\n",
              "      <td>False</td>\n",
              "      <td>False</td>\n",
              "      <td>False</td>\n",
              "      <td>False</td>\n",
              "      <td>False</td>\n",
              "      <td>False</td>\n",
              "      <td>False</td>\n",
              "    </tr>\n",
              "    <tr>\n",
              "      <th>4027</th>\n",
              "      <td>False</td>\n",
              "      <td>False</td>\n",
              "      <td>False</td>\n",
              "      <td>False</td>\n",
              "      <td>False</td>\n",
              "      <td>False</td>\n",
              "      <td>False</td>\n",
              "      <td>False</td>\n",
              "      <td>False</td>\n",
              "    </tr>\n",
              "    <tr>\n",
              "      <th>4028</th>\n",
              "      <td>False</td>\n",
              "      <td>False</td>\n",
              "      <td>False</td>\n",
              "      <td>False</td>\n",
              "      <td>False</td>\n",
              "      <td>False</td>\n",
              "      <td>False</td>\n",
              "      <td>False</td>\n",
              "      <td>False</td>\n",
              "    </tr>\n",
              "    <tr>\n",
              "      <th>4029</th>\n",
              "      <td>False</td>\n",
              "      <td>False</td>\n",
              "      <td>False</td>\n",
              "      <td>False</td>\n",
              "      <td>False</td>\n",
              "      <td>False</td>\n",
              "      <td>False</td>\n",
              "      <td>False</td>\n",
              "      <td>False</td>\n",
              "    </tr>\n",
              "  </tbody>\n",
              "</table>\n",
              "<p>4030 rows × 9 columns</p>\n",
              "</div>"
            ],
            "text/plain": [
              "      num_resolucion  fecha_resolucion  ...  uso_vacuna  fecha_corte\n",
              "0              False             False  ...       False        False\n",
              "1              False             False  ...       False        False\n",
              "2              False             False  ...       False        False\n",
              "3              False             False  ...       False        False\n",
              "4              False             False  ...       False        False\n",
              "...              ...               ...  ...         ...          ...\n",
              "4025           False             False  ...       False        False\n",
              "4026           False             False  ...       False        False\n",
              "4027           False             False  ...       False        False\n",
              "4028           False             False  ...       False        False\n",
              "4029           False             False  ...       False        False\n",
              "\n",
              "[4030 rows x 9 columns]"
            ]
          },
          "metadata": {},
          "execution_count": 13
        }
      ]
    },
    {
      "cell_type": "markdown",
      "metadata": {
        "id": "03xkxMicT3GJ"
      },
      "source": [
        "Retorna True si el valor de la celda es NaN o None, False si tiene un valor válido\n",
        "\n",
        "\n",
        "\n"
      ]
    },
    {
      "cell_type": "markdown",
      "metadata": {
        "id": "b3SwFRJMVizb"
      },
      "source": [
        "**Efecto de la funcion dropna(axis=0,how='any')**"
      ]
    },
    {
      "cell_type": "code",
      "metadata": {
        "colab": {
          "base_uri": "https://localhost:8080/",
          "height": 423
        },
        "id": "0RA5qsZyUUl5",
        "outputId": "337f387d-0a2b-4def-efe7-7318ab22d7d1"
      },
      "source": [
        "asignacion_vacuna.dropna(axis=0,how='any')"
      ],
      "execution_count": null,
      "outputs": [
        {
          "output_type": "execute_result",
          "data": {
            "text/html": [
              "<div>\n",
              "<style scoped>\n",
              "    .dataframe tbody tr th:only-of-type {\n",
              "        vertical-align: middle;\n",
              "    }\n",
              "\n",
              "    .dataframe tbody tr th {\n",
              "        vertical-align: top;\n",
              "    }\n",
              "\n",
              "    .dataframe thead th {\n",
              "        text-align: right;\n",
              "    }\n",
              "</style>\n",
              "<table border=\"1\" class=\"dataframe\">\n",
              "  <thead>\n",
              "    <tr style=\"text-align: right;\">\n",
              "      <th></th>\n",
              "      <th>num_resolucion</th>\n",
              "      <th>fecha_resolucion</th>\n",
              "      <th>a_o</th>\n",
              "      <th>cod_territorio</th>\n",
              "      <th>nom_territorio</th>\n",
              "      <th>laboratorio_vacuna</th>\n",
              "      <th>cantidad</th>\n",
              "      <th>uso_vacuna</th>\n",
              "      <th>fecha_corte</th>\n",
              "    </tr>\n",
              "  </thead>\n",
              "  <tbody>\n",
              "    <tr>\n",
              "      <th>0</th>\n",
              "      <td>168</td>\n",
              "      <td>2021-02-16T00:00:00.000</td>\n",
              "      <td>2021</td>\n",
              "      <td>5</td>\n",
              "      <td>ANTIOQUIA</td>\n",
              "      <td>PFIZER</td>\n",
              "      <td>6570</td>\n",
              "      <td>Talento humano en salud primera etapa</td>\n",
              "      <td>2021-11-11T00:00:00.000</td>\n",
              "    </tr>\n",
              "    <tr>\n",
              "      <th>1</th>\n",
              "      <td>168</td>\n",
              "      <td>2021-02-16T00:00:00.000</td>\n",
              "      <td>2021</td>\n",
              "      <td>81</td>\n",
              "      <td>ARAUCA</td>\n",
              "      <td>PFIZER</td>\n",
              "      <td>120</td>\n",
              "      <td>Talento humano en salud primera etapa</td>\n",
              "      <td>2021-11-11T00:00:00.000</td>\n",
              "    </tr>\n",
              "    <tr>\n",
              "      <th>2</th>\n",
              "      <td>168</td>\n",
              "      <td>2021-02-16T00:00:00.000</td>\n",
              "      <td>2021</td>\n",
              "      <td>8</td>\n",
              "      <td>ATLANTICO</td>\n",
              "      <td>PFIZER</td>\n",
              "      <td>564</td>\n",
              "      <td>Talento humano en salud primera etapa</td>\n",
              "      <td>2021-11-11T00:00:00.000</td>\n",
              "    </tr>\n",
              "    <tr>\n",
              "      <th>3</th>\n",
              "      <td>168</td>\n",
              "      <td>2021-02-16T00:00:00.000</td>\n",
              "      <td>2021</td>\n",
              "      <td>8001</td>\n",
              "      <td>BARRANQUILLA</td>\n",
              "      <td>PFIZER</td>\n",
              "      <td>2556</td>\n",
              "      <td>Talento humano en salud primera etapa</td>\n",
              "      <td>2021-11-11T00:00:00.000</td>\n",
              "    </tr>\n",
              "    <tr>\n",
              "      <th>4</th>\n",
              "      <td>168</td>\n",
              "      <td>2021-02-16T00:00:00.000</td>\n",
              "      <td>2021</td>\n",
              "      <td>11</td>\n",
              "      <td>BOGOTA D.C.</td>\n",
              "      <td>PFIZER</td>\n",
              "      <td>12582</td>\n",
              "      <td>Talento humano en salud primera etapa</td>\n",
              "      <td>2021-11-11T00:00:00.000</td>\n",
              "    </tr>\n",
              "    <tr>\n",
              "      <th>...</th>\n",
              "      <td>...</td>\n",
              "      <td>...</td>\n",
              "      <td>...</td>\n",
              "      <td>...</td>\n",
              "      <td>...</td>\n",
              "      <td>...</td>\n",
              "      <td>...</td>\n",
              "      <td>...</td>\n",
              "      <td>...</td>\n",
              "    </tr>\n",
              "    <tr>\n",
              "      <th>4025</th>\n",
              "      <td>1815</td>\n",
              "      <td>2021-11-11T00:00:00.000</td>\n",
              "      <td>2021</td>\n",
              "      <td>73</td>\n",
              "      <td>TOLIMA</td>\n",
              "      <td>SINOVAC</td>\n",
              "      <td>25200</td>\n",
              "      <td>3 a 11 años / segundas / refuerzos</td>\n",
              "      <td>2021-11-11T00:00:00.000</td>\n",
              "    </tr>\n",
              "    <tr>\n",
              "      <th>4026</th>\n",
              "      <td>1815</td>\n",
              "      <td>2021-11-11T00:00:00.000</td>\n",
              "      <td>2021</td>\n",
              "      <td>76</td>\n",
              "      <td>VALLE_DEL_CAUCA</td>\n",
              "      <td>SINOVAC</td>\n",
              "      <td>20400</td>\n",
              "      <td>3 a 11 años / segundas / refuerzos</td>\n",
              "      <td>2021-11-11T00:00:00.000</td>\n",
              "    </tr>\n",
              "    <tr>\n",
              "      <th>4027</th>\n",
              "      <td>1815</td>\n",
              "      <td>2021-11-11T00:00:00.000</td>\n",
              "      <td>2021</td>\n",
              "      <td>76109</td>\n",
              "      <td>BUENAVENTURA</td>\n",
              "      <td>SINOVAC</td>\n",
              "      <td>6000</td>\n",
              "      <td>3 a 11 años / segundas / refuerzos</td>\n",
              "      <td>2021-11-11T00:00:00.000</td>\n",
              "    </tr>\n",
              "    <tr>\n",
              "      <th>4028</th>\n",
              "      <td>1815</td>\n",
              "      <td>2021-11-11T00:00:00.000</td>\n",
              "      <td>2021</td>\n",
              "      <td>97</td>\n",
              "      <td>VAUPES</td>\n",
              "      <td>SINOVAC</td>\n",
              "      <td>200</td>\n",
              "      <td>3 a 11 años / segundas / refuerzos</td>\n",
              "      <td>2021-11-11T00:00:00.000</td>\n",
              "    </tr>\n",
              "    <tr>\n",
              "      <th>4029</th>\n",
              "      <td>1815</td>\n",
              "      <td>2021-11-11T00:00:00.000</td>\n",
              "      <td>2021</td>\n",
              "      <td>99</td>\n",
              "      <td>VICHADA</td>\n",
              "      <td>SINOVAC</td>\n",
              "      <td>2400</td>\n",
              "      <td>3 a 11 años / segundas / refuerzos</td>\n",
              "      <td>2021-11-11T00:00:00.000</td>\n",
              "    </tr>\n",
              "  </tbody>\n",
              "</table>\n",
              "<p>4029 rows × 9 columns</p>\n",
              "</div>"
            ],
            "text/plain": [
              "     num_resolucion  ...              fecha_corte\n",
              "0               168  ...  2021-11-11T00:00:00.000\n",
              "1               168  ...  2021-11-11T00:00:00.000\n",
              "2               168  ...  2021-11-11T00:00:00.000\n",
              "3               168  ...  2021-11-11T00:00:00.000\n",
              "4               168  ...  2021-11-11T00:00:00.000\n",
              "...             ...  ...                      ...\n",
              "4025           1815  ...  2021-11-11T00:00:00.000\n",
              "4026           1815  ...  2021-11-11T00:00:00.000\n",
              "4027           1815  ...  2021-11-11T00:00:00.000\n",
              "4028           1815  ...  2021-11-11T00:00:00.000\n",
              "4029           1815  ...  2021-11-11T00:00:00.000\n",
              "\n",
              "[4029 rows x 9 columns]"
            ]
          },
          "metadata": {},
          "execution_count": 17
        }
      ]
    },
    {
      "cell_type": "markdown",
      "metadata": {
        "id": "ycXhsaUqWz5E"
      },
      "source": [
        "Elimina filas en caso de que algun valor de esta sea NaN o None, en este caso solo elimino una fila, paso de tener 4030 a 4029"
      ]
    },
    {
      "cell_type": "markdown",
      "metadata": {
        "id": "ykIBSYDxbt_3"
      },
      "source": [
        "**Efecto de la funcion dropna(axis=0,how='all')**"
      ]
    },
    {
      "cell_type": "code",
      "metadata": {
        "colab": {
          "base_uri": "https://localhost:8080/",
          "height": 423
        },
        "id": "4BwsyXUacJHs",
        "outputId": "40d898ce-51dc-4b19-fffb-889a6a5723bd"
      },
      "source": [
        "asignacion_vacuna.dropna(axis=0,how='all')"
      ],
      "execution_count": null,
      "outputs": [
        {
          "output_type": "execute_result",
          "data": {
            "text/html": [
              "<div>\n",
              "<style scoped>\n",
              "    .dataframe tbody tr th:only-of-type {\n",
              "        vertical-align: middle;\n",
              "    }\n",
              "\n",
              "    .dataframe tbody tr th {\n",
              "        vertical-align: top;\n",
              "    }\n",
              "\n",
              "    .dataframe thead th {\n",
              "        text-align: right;\n",
              "    }\n",
              "</style>\n",
              "<table border=\"1\" class=\"dataframe\">\n",
              "  <thead>\n",
              "    <tr style=\"text-align: right;\">\n",
              "      <th></th>\n",
              "      <th>num_resolucion</th>\n",
              "      <th>fecha_resolucion</th>\n",
              "      <th>a_o</th>\n",
              "      <th>cod_territorio</th>\n",
              "      <th>nom_territorio</th>\n",
              "      <th>laboratorio_vacuna</th>\n",
              "      <th>cantidad</th>\n",
              "      <th>uso_vacuna</th>\n",
              "      <th>fecha_corte</th>\n",
              "    </tr>\n",
              "  </thead>\n",
              "  <tbody>\n",
              "    <tr>\n",
              "      <th>0</th>\n",
              "      <td>168</td>\n",
              "      <td>2021-02-16T00:00:00.000</td>\n",
              "      <td>2021</td>\n",
              "      <td>5</td>\n",
              "      <td>ANTIOQUIA</td>\n",
              "      <td>PFIZER</td>\n",
              "      <td>6570</td>\n",
              "      <td>Talento humano en salud primera etapa</td>\n",
              "      <td>2021-11-11T00:00:00.000</td>\n",
              "    </tr>\n",
              "    <tr>\n",
              "      <th>1</th>\n",
              "      <td>168</td>\n",
              "      <td>2021-02-16T00:00:00.000</td>\n",
              "      <td>2021</td>\n",
              "      <td>81</td>\n",
              "      <td>ARAUCA</td>\n",
              "      <td>PFIZER</td>\n",
              "      <td>120</td>\n",
              "      <td>Talento humano en salud primera etapa</td>\n",
              "      <td>2021-11-11T00:00:00.000</td>\n",
              "    </tr>\n",
              "    <tr>\n",
              "      <th>2</th>\n",
              "      <td>168</td>\n",
              "      <td>2021-02-16T00:00:00.000</td>\n",
              "      <td>2021</td>\n",
              "      <td>8</td>\n",
              "      <td>ATLANTICO</td>\n",
              "      <td>PFIZER</td>\n",
              "      <td>564</td>\n",
              "      <td>Talento humano en salud primera etapa</td>\n",
              "      <td>2021-11-11T00:00:00.000</td>\n",
              "    </tr>\n",
              "    <tr>\n",
              "      <th>3</th>\n",
              "      <td>168</td>\n",
              "      <td>2021-02-16T00:00:00.000</td>\n",
              "      <td>2021</td>\n",
              "      <td>8001</td>\n",
              "      <td>BARRANQUILLA</td>\n",
              "      <td>PFIZER</td>\n",
              "      <td>2556</td>\n",
              "      <td>Talento humano en salud primera etapa</td>\n",
              "      <td>2021-11-11T00:00:00.000</td>\n",
              "    </tr>\n",
              "    <tr>\n",
              "      <th>4</th>\n",
              "      <td>168</td>\n",
              "      <td>2021-02-16T00:00:00.000</td>\n",
              "      <td>2021</td>\n",
              "      <td>11</td>\n",
              "      <td>BOGOTA D.C.</td>\n",
              "      <td>PFIZER</td>\n",
              "      <td>12582</td>\n",
              "      <td>Talento humano en salud primera etapa</td>\n",
              "      <td>2021-11-11T00:00:00.000</td>\n",
              "    </tr>\n",
              "    <tr>\n",
              "      <th>...</th>\n",
              "      <td>...</td>\n",
              "      <td>...</td>\n",
              "      <td>...</td>\n",
              "      <td>...</td>\n",
              "      <td>...</td>\n",
              "      <td>...</td>\n",
              "      <td>...</td>\n",
              "      <td>...</td>\n",
              "      <td>...</td>\n",
              "    </tr>\n",
              "    <tr>\n",
              "      <th>4025</th>\n",
              "      <td>1815</td>\n",
              "      <td>2021-11-11T00:00:00.000</td>\n",
              "      <td>2021</td>\n",
              "      <td>73</td>\n",
              "      <td>TOLIMA</td>\n",
              "      <td>SINOVAC</td>\n",
              "      <td>25200</td>\n",
              "      <td>3 a 11 años / segundas / refuerzos</td>\n",
              "      <td>2021-11-11T00:00:00.000</td>\n",
              "    </tr>\n",
              "    <tr>\n",
              "      <th>4026</th>\n",
              "      <td>1815</td>\n",
              "      <td>2021-11-11T00:00:00.000</td>\n",
              "      <td>2021</td>\n",
              "      <td>76</td>\n",
              "      <td>VALLE_DEL_CAUCA</td>\n",
              "      <td>SINOVAC</td>\n",
              "      <td>20400</td>\n",
              "      <td>3 a 11 años / segundas / refuerzos</td>\n",
              "      <td>2021-11-11T00:00:00.000</td>\n",
              "    </tr>\n",
              "    <tr>\n",
              "      <th>4027</th>\n",
              "      <td>1815</td>\n",
              "      <td>2021-11-11T00:00:00.000</td>\n",
              "      <td>2021</td>\n",
              "      <td>76109</td>\n",
              "      <td>BUENAVENTURA</td>\n",
              "      <td>SINOVAC</td>\n",
              "      <td>6000</td>\n",
              "      <td>3 a 11 años / segundas / refuerzos</td>\n",
              "      <td>2021-11-11T00:00:00.000</td>\n",
              "    </tr>\n",
              "    <tr>\n",
              "      <th>4028</th>\n",
              "      <td>1815</td>\n",
              "      <td>2021-11-11T00:00:00.000</td>\n",
              "      <td>2021</td>\n",
              "      <td>97</td>\n",
              "      <td>VAUPES</td>\n",
              "      <td>SINOVAC</td>\n",
              "      <td>200</td>\n",
              "      <td>3 a 11 años / segundas / refuerzos</td>\n",
              "      <td>2021-11-11T00:00:00.000</td>\n",
              "    </tr>\n",
              "    <tr>\n",
              "      <th>4029</th>\n",
              "      <td>1815</td>\n",
              "      <td>2021-11-11T00:00:00.000</td>\n",
              "      <td>2021</td>\n",
              "      <td>99</td>\n",
              "      <td>VICHADA</td>\n",
              "      <td>SINOVAC</td>\n",
              "      <td>2400</td>\n",
              "      <td>3 a 11 años / segundas / refuerzos</td>\n",
              "      <td>2021-11-11T00:00:00.000</td>\n",
              "    </tr>\n",
              "  </tbody>\n",
              "</table>\n",
              "<p>4030 rows × 9 columns</p>\n",
              "</div>"
            ],
            "text/plain": [
              "     num_resolucion  ...              fecha_corte\n",
              "0               168  ...  2021-11-11T00:00:00.000\n",
              "1               168  ...  2021-11-11T00:00:00.000\n",
              "2               168  ...  2021-11-11T00:00:00.000\n",
              "3               168  ...  2021-11-11T00:00:00.000\n",
              "4               168  ...  2021-11-11T00:00:00.000\n",
              "...             ...  ...                      ...\n",
              "4025           1815  ...  2021-11-11T00:00:00.000\n",
              "4026           1815  ...  2021-11-11T00:00:00.000\n",
              "4027           1815  ...  2021-11-11T00:00:00.000\n",
              "4028           1815  ...  2021-11-11T00:00:00.000\n",
              "4029           1815  ...  2021-11-11T00:00:00.000\n",
              "\n",
              "[4030 rows x 9 columns]"
            ]
          },
          "metadata": {},
          "execution_count": 18
        }
      ]
    },
    {
      "cell_type": "markdown",
      "metadata": {
        "id": "HuVNtVBodAjW"
      },
      "source": [
        "Elimina filas en caso de que todos los valores de esta sea NaN o None, en este caso no se elimino ninguna fila"
      ]
    },
    {
      "cell_type": "markdown",
      "metadata": {
        "id": "UmTCJEJ2fTTQ"
      },
      "source": [
        "**Efecto de la funcion dropna(axis=1, how='any')**"
      ]
    },
    {
      "cell_type": "code",
      "metadata": {
        "colab": {
          "base_uri": "https://localhost:8080/",
          "height": 423
        },
        "id": "VGVXpIE2eTTA",
        "outputId": "a8d5320a-b521-4ad7-e4a5-464100011384"
      },
      "source": [
        "asignacion_vacuna.dropna(axis=1, how='any')"
      ],
      "execution_count": null,
      "outputs": [
        {
          "output_type": "execute_result",
          "data": {
            "text/html": [
              "<div>\n",
              "<style scoped>\n",
              "    .dataframe tbody tr th:only-of-type {\n",
              "        vertical-align: middle;\n",
              "    }\n",
              "\n",
              "    .dataframe tbody tr th {\n",
              "        vertical-align: top;\n",
              "    }\n",
              "\n",
              "    .dataframe thead th {\n",
              "        text-align: right;\n",
              "    }\n",
              "</style>\n",
              "<table border=\"1\" class=\"dataframe\">\n",
              "  <thead>\n",
              "    <tr style=\"text-align: right;\">\n",
              "      <th></th>\n",
              "      <th>num_resolucion</th>\n",
              "      <th>fecha_resolucion</th>\n",
              "      <th>a_o</th>\n",
              "      <th>nom_territorio</th>\n",
              "      <th>laboratorio_vacuna</th>\n",
              "      <th>cantidad</th>\n",
              "      <th>fecha_corte</th>\n",
              "    </tr>\n",
              "  </thead>\n",
              "  <tbody>\n",
              "    <tr>\n",
              "      <th>0</th>\n",
              "      <td>168</td>\n",
              "      <td>2021-02-16T00:00:00.000</td>\n",
              "      <td>2021</td>\n",
              "      <td>ANTIOQUIA</td>\n",
              "      <td>PFIZER</td>\n",
              "      <td>6570</td>\n",
              "      <td>2021-11-11T00:00:00.000</td>\n",
              "    </tr>\n",
              "    <tr>\n",
              "      <th>1</th>\n",
              "      <td>168</td>\n",
              "      <td>2021-02-16T00:00:00.000</td>\n",
              "      <td>2021</td>\n",
              "      <td>ARAUCA</td>\n",
              "      <td>PFIZER</td>\n",
              "      <td>120</td>\n",
              "      <td>2021-11-11T00:00:00.000</td>\n",
              "    </tr>\n",
              "    <tr>\n",
              "      <th>2</th>\n",
              "      <td>168</td>\n",
              "      <td>2021-02-16T00:00:00.000</td>\n",
              "      <td>2021</td>\n",
              "      <td>ATLANTICO</td>\n",
              "      <td>PFIZER</td>\n",
              "      <td>564</td>\n",
              "      <td>2021-11-11T00:00:00.000</td>\n",
              "    </tr>\n",
              "    <tr>\n",
              "      <th>3</th>\n",
              "      <td>168</td>\n",
              "      <td>2021-02-16T00:00:00.000</td>\n",
              "      <td>2021</td>\n",
              "      <td>BARRANQUILLA</td>\n",
              "      <td>PFIZER</td>\n",
              "      <td>2556</td>\n",
              "      <td>2021-11-11T00:00:00.000</td>\n",
              "    </tr>\n",
              "    <tr>\n",
              "      <th>4</th>\n",
              "      <td>168</td>\n",
              "      <td>2021-02-16T00:00:00.000</td>\n",
              "      <td>2021</td>\n",
              "      <td>BOGOTA D.C.</td>\n",
              "      <td>PFIZER</td>\n",
              "      <td>12582</td>\n",
              "      <td>2021-11-11T00:00:00.000</td>\n",
              "    </tr>\n",
              "    <tr>\n",
              "      <th>...</th>\n",
              "      <td>...</td>\n",
              "      <td>...</td>\n",
              "      <td>...</td>\n",
              "      <td>...</td>\n",
              "      <td>...</td>\n",
              "      <td>...</td>\n",
              "      <td>...</td>\n",
              "    </tr>\n",
              "    <tr>\n",
              "      <th>4025</th>\n",
              "      <td>1815</td>\n",
              "      <td>2021-11-11T00:00:00.000</td>\n",
              "      <td>2021</td>\n",
              "      <td>TOLIMA</td>\n",
              "      <td>SINOVAC</td>\n",
              "      <td>25200</td>\n",
              "      <td>2021-11-11T00:00:00.000</td>\n",
              "    </tr>\n",
              "    <tr>\n",
              "      <th>4026</th>\n",
              "      <td>1815</td>\n",
              "      <td>2021-11-11T00:00:00.000</td>\n",
              "      <td>2021</td>\n",
              "      <td>VALLE_DEL_CAUCA</td>\n",
              "      <td>SINOVAC</td>\n",
              "      <td>20400</td>\n",
              "      <td>2021-11-11T00:00:00.000</td>\n",
              "    </tr>\n",
              "    <tr>\n",
              "      <th>4027</th>\n",
              "      <td>1815</td>\n",
              "      <td>2021-11-11T00:00:00.000</td>\n",
              "      <td>2021</td>\n",
              "      <td>BUENAVENTURA</td>\n",
              "      <td>SINOVAC</td>\n",
              "      <td>6000</td>\n",
              "      <td>2021-11-11T00:00:00.000</td>\n",
              "    </tr>\n",
              "    <tr>\n",
              "      <th>4028</th>\n",
              "      <td>1815</td>\n",
              "      <td>2021-11-11T00:00:00.000</td>\n",
              "      <td>2021</td>\n",
              "      <td>VAUPES</td>\n",
              "      <td>SINOVAC</td>\n",
              "      <td>200</td>\n",
              "      <td>2021-11-11T00:00:00.000</td>\n",
              "    </tr>\n",
              "    <tr>\n",
              "      <th>4029</th>\n",
              "      <td>1815</td>\n",
              "      <td>2021-11-11T00:00:00.000</td>\n",
              "      <td>2021</td>\n",
              "      <td>VICHADA</td>\n",
              "      <td>SINOVAC</td>\n",
              "      <td>2400</td>\n",
              "      <td>2021-11-11T00:00:00.000</td>\n",
              "    </tr>\n",
              "  </tbody>\n",
              "</table>\n",
              "<p>4030 rows × 7 columns</p>\n",
              "</div>"
            ],
            "text/plain": [
              "     num_resolucion         fecha_resolucion  ... cantidad              fecha_corte\n",
              "0               168  2021-02-16T00:00:00.000  ...     6570  2021-11-11T00:00:00.000\n",
              "1               168  2021-02-16T00:00:00.000  ...      120  2021-11-11T00:00:00.000\n",
              "2               168  2021-02-16T00:00:00.000  ...      564  2021-11-11T00:00:00.000\n",
              "3               168  2021-02-16T00:00:00.000  ...     2556  2021-11-11T00:00:00.000\n",
              "4               168  2021-02-16T00:00:00.000  ...    12582  2021-11-11T00:00:00.000\n",
              "...             ...                      ...  ...      ...                      ...\n",
              "4025           1815  2021-11-11T00:00:00.000  ...    25200  2021-11-11T00:00:00.000\n",
              "4026           1815  2021-11-11T00:00:00.000  ...    20400  2021-11-11T00:00:00.000\n",
              "4027           1815  2021-11-11T00:00:00.000  ...     6000  2021-11-11T00:00:00.000\n",
              "4028           1815  2021-11-11T00:00:00.000  ...      200  2021-11-11T00:00:00.000\n",
              "4029           1815  2021-11-11T00:00:00.000  ...     2400  2021-11-11T00:00:00.000\n",
              "\n",
              "[4030 rows x 7 columns]"
            ]
          },
          "metadata": {},
          "execution_count": 19
        }
      ]
    },
    {
      "cell_type": "markdown",
      "metadata": {
        "id": "KQYFc_ZcfexQ"
      },
      "source": [
        "Elimina columnas en caso de que cualquier valor de la columna sea NaN o None, en este caso elimino 2 columnas"
      ]
    },
    {
      "cell_type": "markdown",
      "metadata": {
        "id": "11ucmZBMiM7p"
      },
      "source": [
        "**Efecto de la funcion fillna(value=3)**"
      ]
    },
    {
      "cell_type": "code",
      "metadata": {
        "colab": {
          "base_uri": "https://localhost:8080/",
          "height": 81
        },
        "id": "iXYAp2mHjYmz",
        "outputId": "1f22891e-534d-4f29-b34e-dfd84e8b86a6"
      },
      "source": [
        "df = asignacion_vacuna[asignacion_vacuna.isna().any(axis=1)] \n",
        "df\n"
      ],
      "execution_count": 54,
      "outputs": [
        {
          "output_type": "execute_result",
          "data": {
            "text/html": [
              "<div>\n",
              "<style scoped>\n",
              "    .dataframe tbody tr th:only-of-type {\n",
              "        vertical-align: middle;\n",
              "    }\n",
              "\n",
              "    .dataframe tbody tr th {\n",
              "        vertical-align: top;\n",
              "    }\n",
              "\n",
              "    .dataframe thead th {\n",
              "        text-align: right;\n",
              "    }\n",
              "</style>\n",
              "<table border=\"1\" class=\"dataframe\">\n",
              "  <thead>\n",
              "    <tr style=\"text-align: right;\">\n",
              "      <th></th>\n",
              "      <th>num_resolucion</th>\n",
              "      <th>fecha_resolucion</th>\n",
              "      <th>a_o</th>\n",
              "      <th>cod_territorio</th>\n",
              "      <th>nom_territorio</th>\n",
              "      <th>laboratorio_vacuna</th>\n",
              "      <th>cantidad</th>\n",
              "      <th>uso_vacuna</th>\n",
              "      <th>fecha_corte</th>\n",
              "    </tr>\n",
              "  </thead>\n",
              "  <tbody>\n",
              "    <tr>\n",
              "      <th>2401</th>\n",
              "      <td>1024</td>\n",
              "      <td>2021-07-16T00:00:00.000</td>\n",
              "      <td>2022</td>\n",
              "      <td>NaN</td>\n",
              "      <td>CAUCA</td>\n",
              "      <td>PFIZER</td>\n",
              "      <td>-16380</td>\n",
              "      <td>NaN</td>\n",
              "      <td>2021-11-11T00:00:00.000</td>\n",
              "    </tr>\n",
              "  </tbody>\n",
              "</table>\n",
              "</div>"
            ],
            "text/plain": [
              "     num_resolucion  ...              fecha_corte\n",
              "2401           1024  ...  2021-11-11T00:00:00.000\n",
              "\n",
              "[1 rows x 9 columns]"
            ]
          },
          "metadata": {},
          "execution_count": 54
        }
      ]
    },
    {
      "cell_type": "code",
      "metadata": {
        "id": "38wN7ZH6ieLZ"
      },
      "source": [
        "\n",
        "df = asignacion_vacuna.fillna (value=3)\n",
        "\n"
      ],
      "execution_count": 57,
      "outputs": []
    },
    {
      "cell_type": "code",
      "metadata": {
        "colab": {
          "base_uri": "https://localhost:8080/"
        },
        "id": "lCUMLIWZpNkN",
        "outputId": "33a075a5-9854-422c-c758-08958bd8b0e0"
      },
      "source": [
        "df.loc[2401]"
      ],
      "execution_count": 63,
      "outputs": [
        {
          "output_type": "execute_result",
          "data": {
            "text/plain": [
              "num_resolucion                           1024\n",
              "fecha_resolucion      2021-07-16T00:00:00.000\n",
              "a_o                                      2022\n",
              "cod_territorio                              3\n",
              "nom_territorio                          CAUCA\n",
              "laboratorio_vacuna                     PFIZER\n",
              "cantidad                               -16380\n",
              "uso_vacuna                                  3\n",
              "fecha_corte           2021-11-11T00:00:00.000\n",
              "Name: 2401, dtype: object"
            ]
          },
          "metadata": {},
          "execution_count": 63
        }
      ]
    },
    {
      "cell_type": "markdown",
      "metadata": {
        "id": "wCnxZ3Wfp5Q9"
      },
      "source": [
        "A los valores que esta nulos les asigna el valor que esta en el parametro"
      ]
    },
    {
      "cell_type": "markdown",
      "metadata": {
        "id": "R2SdpCzlr49P"
      },
      "source": [
        "**Efecto de df.fillna(df.mean())**"
      ]
    },
    {
      "cell_type": "code",
      "metadata": {
        "colab": {
          "base_uri": "https://localhost:8080/"
        },
        "id": "GPVJTGjpsCZY",
        "outputId": "698d16b4-1690-4549-cc8a-b225ff0f5cf1"
      },
      "source": [
        "asignacion_vacuna.mean()"
      ],
      "execution_count": 64,
      "outputs": [
        {
          "output_type": "execute_result",
          "data": {
            "text/plain": [
              "num_resolucion             inf\n",
              "a_o                        inf\n",
              "cantidad          1.451692e+04\n",
              "dtype: float64"
            ]
          },
          "metadata": {},
          "execution_count": 64
        }
      ]
    },
    {
      "cell_type": "markdown",
      "metadata": {
        "id": "yZD2ibc7rCb2"
      },
      "source": [
        "*3.) Filtrado y consulta de datos*"
      ]
    },
    {
      "cell_type": "markdown",
      "metadata": {
        "id": "2KPTpWSfqGB1"
      },
      "source": [
        "**df['columna n’] >= valor**"
      ]
    },
    {
      "cell_type": "code",
      "metadata": {
        "colab": {
          "base_uri": "https://localhost:8080/"
        },
        "id": "RrVncGRYkaXa",
        "outputId": "7746a3d6-5be5-4a8b-c5fc-437731bff927"
      },
      "source": [
        "\n",
        "asignacion_vacuna[\"cantidad\"] >= 600"
      ],
      "execution_count": 45,
      "outputs": [
        {
          "output_type": "execute_result",
          "data": {
            "text/plain": [
              "0        True\n",
              "1       False\n",
              "2       False\n",
              "3        True\n",
              "4        True\n",
              "        ...  \n",
              "4025     True\n",
              "4026     True\n",
              "4027     True\n",
              "4028    False\n",
              "4029     True\n",
              "Name: cantidad, Length: 4030, dtype: bool"
            ]
          },
          "metadata": {},
          "execution_count": 45
        }
      ]
    },
    {
      "cell_type": "markdown",
      "metadata": {
        "id": "liu38KNPqLeF"
      },
      "source": [
        "Retorna un valor booleano para cada fila, en este caso retorna True si el valor de cantidad es mayor o igual a 600"
      ]
    }
  ]
}